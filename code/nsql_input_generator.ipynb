{
 "cells": [
  {
   "cell_type": "code",
   "execution_count": 1,
   "id": "4473e1b6",
   "metadata": {},
   "outputs": [],
   "source": [
    "# path variables\n",
    "import sys\n",
    "project_path = '/Users/naresh/Downloads/DS/growth/nsl_v2/nsl_v2_model_deployment/'\n",
    "\n",
    "# core libraries\n",
    "import pickle\n",
    "import warnings\n",
    "warnings.filterwarnings(\"ignore\")\n",
    "import datetime\n",
    "import pandas as pd\n",
    "import numpy as np"
   ]
  },
  {
   "cell_type": "code",
   "execution_count": 2,
   "id": "dbb477a5",
   "metadata": {},
   "outputs": [
    {
     "data": {
      "text/plain": [
       "(1000, 23)"
      ]
     },
     "execution_count": 2,
     "metadata": {},
     "output_type": "execute_result"
    }
   ],
   "source": [
    "# raw data\n",
    "file = 'sample_datapoints.pkl'\n",
    "path = project_path + 'data/'\n",
    "df = pd.read_pickle(path + file)\n",
    "df.shape"
   ]
  },
  {
   "cell_type": "code",
   "execution_count": 3,
   "id": "b94652ca",
   "metadata": {},
   "outputs": [],
   "source": [
    "apps_cols = ['estimated_monthly_revenue','incoming_ach_payments','outgoing_ach_and_checks',\n",
    "            'check_deposit_amount','outgoing_wire_transfers','incoming_wire_transfer','business_type',\n",
    "            'email_domain','industry_category_name']\n",
    "alloy_cols = ['iovation_device_type','iovation_device_timezone','carrier','socure_sigma','socure_phonerisk',\n",
    "             'socure_emailrisk','socure_reason_code','socure_phonerisk_reason_code','socure_emailrisk_reason_code']\n",
    "segment_cols = ['screen_width_mean','screen_height_mean']\n",
    "\n",
    "columns = apps_cols+alloy_cols+segment_cols"
   ]
  },
  {
   "cell_type": "code",
   "execution_count": 4,
   "id": "41ab6448",
   "metadata": {
    "scrolled": true
   },
   "outputs": [],
   "source": [
    "string_cols = apps_cols+['iovation_device_type','iovation_device_timezone','carrier','socure_reason_code',\n",
    "                         'socure_phonerisk_reason_code','socure_emailrisk_reason_code']\n",
    "num_cols = ['socure_sigma','socure_phonerisk','socure_emailrisk','screen_width_mean','screen_height_mean']\n",
    "df[string_cols] = df[string_cols].astype('string')\n",
    "df[num_cols] = df[num_cols].astype('float')"
   ]
  },
  {
   "cell_type": "code",
   "execution_count": 5,
   "id": "1bc39a6a",
   "metadata": {},
   "outputs": [],
   "source": [
    "sp_ids = ['f5d1fc1a-eb4f-4c79-a7a5-f13f9b003b43', '223267f8-2fc4-4b42-92ab-f95721c4fa55', \n",
    "          '8b856b56-90c3-4c16-b025-b150fe703fa4', '1e2933e4-6e0e-46b7-a78c-33f2a85c548f',\n",
    "          '6cb4f51b-79a8-4c49-b05f-9cac4f00c753']\n",
    "\n",
    "llc_ids = ['e5b34081-384f-449e-99ed-54f1149f30e9', '4a79a0c9-2f01-43f7-8788-e82322cebe5a', \n",
    "           '7be6c9d8-40ee-4754-b3e7-f33b37fa9df9', '381ec7a0-276d-4834-9197-f92d0feb2385',\n",
    "           'bc9398d5-4890-4925-a656-115f94623a48']\n",
    "\n",
    "corporation_ids = ['3b60e311-949f-4bf8-9faa-e1992f3ab97d', '666bea42-88a6-4275-82d4-31d2ec9887f3',\n",
    "                   'f2d4483d-1269-40b3-b7ca-cc0077e80d66']\n",
    "\n",
    "partnership_ids = ['0b86fb57-e25b-4128-b85c-f4668578cc35', 'e2d94d4b-aa8b-49a8-a1ab-9ff9767fe7a1']\n"
   ]
  },
  {
   "cell_type": "code",
   "execution_count": 6,
   "id": "672a6af2",
   "metadata": {
    "scrolled": true
   },
   "outputs": [],
   "source": [
    "# # All test cases\n",
    "# df[df.application_id.isin(sp_ids+llc_ids+corporation_ids+partnership_ids\n",
    "#                          )][['application_id']+columns].T.to_json(project_path + \"data/nsql_sample_input.json\")"
   ]
  },
  {
   "cell_type": "code",
   "execution_count": 15,
   "id": "4f4e1bfd",
   "metadata": {},
   "outputs": [],
   "source": [
    "df[['application_id']+columns].iloc[55].to_json(project_path + \"data/nsql_sample_input.json\")\n"
   ]
  },
  {
   "cell_type": "code",
   "execution_count": 16,
   "id": "6e2bfaa9",
   "metadata": {},
   "outputs": [],
   "source": [
    "# get input json\n",
    "import json\n",
    "with open(project_path + 'data/nsql_sample_input.json', \"r\") as read_file:\n",
    "    input_data = pd.DataFrame([json.load(read_file)])"
   ]
  },
  {
   "cell_type": "code",
   "execution_count": 17,
   "id": "46b67f16",
   "metadata": {},
   "outputs": [
    {
     "data": {
      "text/html": [
       "<div>\n",
       "<style scoped>\n",
       "    .dataframe tbody tr th:only-of-type {\n",
       "        vertical-align: middle;\n",
       "    }\n",
       "\n",
       "    .dataframe tbody tr th {\n",
       "        vertical-align: top;\n",
       "    }\n",
       "\n",
       "    .dataframe thead th {\n",
       "        text-align: right;\n",
       "    }\n",
       "</style>\n",
       "<table border=\"1\" class=\"dataframe\">\n",
       "  <thead>\n",
       "    <tr style=\"text-align: right;\">\n",
       "      <th></th>\n",
       "      <th>application_id</th>\n",
       "      <th>estimated_monthly_revenue</th>\n",
       "      <th>incoming_ach_payments</th>\n",
       "      <th>outgoing_ach_and_checks</th>\n",
       "      <th>check_deposit_amount</th>\n",
       "      <th>outgoing_wire_transfers</th>\n",
       "      <th>incoming_wire_transfer</th>\n",
       "      <th>business_type</th>\n",
       "      <th>email_domain</th>\n",
       "      <th>industry_category_name</th>\n",
       "      <th>...</th>\n",
       "      <th>iovation_device_timezone</th>\n",
       "      <th>carrier</th>\n",
       "      <th>socure_sigma</th>\n",
       "      <th>socure_phonerisk</th>\n",
       "      <th>socure_emailrisk</th>\n",
       "      <th>socure_reason_code</th>\n",
       "      <th>socure_phonerisk_reason_code</th>\n",
       "      <th>socure_emailrisk_reason_code</th>\n",
       "      <th>screen_width_mean</th>\n",
       "      <th>screen_height_mean</th>\n",
       "    </tr>\n",
       "  </thead>\n",
       "  <tbody>\n",
       "    <tr>\n",
       "      <th>0</th>\n",
       "      <td>35b9598f-1d7b-4e03-b52d-5a3c7a883ada</td>\n",
       "      <td>$5K +</td>\n",
       "      <td>$5K +</td>\n",
       "      <td>$5K +</td>\n",
       "      <td>$5K +</td>\n",
       "      <td>$0</td>\n",
       "      <td>&lt;$1K</td>\n",
       "      <td>llc</td>\n",
       "      <td>gmail.com</td>\n",
       "      <td>Manufacturing</td>\n",
       "      <td>...</td>\n",
       "      <td>300</td>\n",
       "      <td>AT&amp;T</td>\n",
       "      <td>0.818</td>\n",
       "      <td>0.583</td>\n",
       "      <td>0.705</td>\n",
       "      <td>[\\n  \"I610\",\\n  \"I626\",\\n  \"I711\",\\n  \"R559\",\\...</td>\n",
       "      <td>[\\n  \"I610\",\\n  \"I626\",\\n  \"I632\",\\n  \"I620\",\\...</td>\n",
       "      <td>[\\n  \"R559\",\\n  \"I520\",\\n  \"I553\",\\n  \"I555\"\\n]</td>\n",
       "      <td>414.0</td>\n",
       "      <td>776.0</td>\n",
       "    </tr>\n",
       "  </tbody>\n",
       "</table>\n",
       "<p>1 rows × 21 columns</p>\n",
       "</div>"
      ],
      "text/plain": [
       "                         application_id estimated_monthly_revenue  \\\n",
       "0  35b9598f-1d7b-4e03-b52d-5a3c7a883ada                     $5K +   \n",
       "\n",
       "  incoming_ach_payments outgoing_ach_and_checks check_deposit_amount  \\\n",
       "0                 $5K +                   $5K +                $5K +   \n",
       "\n",
       "  outgoing_wire_transfers incoming_wire_transfer business_type email_domain  \\\n",
       "0                      $0                   <$1K           llc    gmail.com   \n",
       "\n",
       "  industry_category_name  ... iovation_device_timezone carrier socure_sigma  \\\n",
       "0          Manufacturing  ...                      300    AT&T        0.818   \n",
       "\n",
       "   socure_phonerisk  socure_emailrisk  \\\n",
       "0             0.583             0.705   \n",
       "\n",
       "                                  socure_reason_code  \\\n",
       "0  [\\n  \"I610\",\\n  \"I626\",\\n  \"I711\",\\n  \"R559\",\\...   \n",
       "\n",
       "                        socure_phonerisk_reason_code  \\\n",
       "0  [\\n  \"I610\",\\n  \"I626\",\\n  \"I632\",\\n  \"I620\",\\...   \n",
       "\n",
       "                      socure_emailrisk_reason_code screen_width_mean  \\\n",
       "0  [\\n  \"R559\",\\n  \"I520\",\\n  \"I553\",\\n  \"I555\"\\n]             414.0   \n",
       "\n",
       "   screen_height_mean  \n",
       "0               776.0  \n",
       "\n",
       "[1 rows x 21 columns]"
      ]
     },
     "execution_count": 17,
     "metadata": {},
     "output_type": "execute_result"
    }
   ],
   "source": [
    "input_data"
   ]
  },
  {
   "cell_type": "code",
   "execution_count": null,
   "id": "abf4beda",
   "metadata": {},
   "outputs": [],
   "source": []
  }
 ],
 "metadata": {
  "kernelspec": {
   "display_name": "Python 3 (ipykernel)",
   "language": "python",
   "name": "python3"
  },
  "language_info": {
   "codemirror_mode": {
    "name": "ipython",
    "version": 3
   },
   "file_extension": ".py",
   "mimetype": "text/x-python",
   "name": "python",
   "nbconvert_exporter": "python",
   "pygments_lexer": "ipython3",
   "version": "3.9.2"
  }
 },
 "nbformat": 4,
 "nbformat_minor": 5
}
