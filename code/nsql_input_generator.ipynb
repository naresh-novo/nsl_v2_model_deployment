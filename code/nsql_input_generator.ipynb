{
 "cells": [
  {
   "cell_type": "code",
   "execution_count": 1,
   "id": "4473e1b6",
   "metadata": {},
   "outputs": [],
   "source": [
    "# path variables\n",
    "import sys\n",
    "project_path = '/Users/naresh/Downloads/DS/growth/nsl_v2/nsl_v2_model_deployment/'\n",
    "\n",
    "# core libraries\n",
    "import pickle\n",
    "import warnings\n",
    "warnings.filterwarnings(\"ignore\")\n",
    "import datetime\n",
    "import pandas as pd\n",
    "import numpy as np"
   ]
  },
  {
   "cell_type": "code",
   "execution_count": 2,
   "id": "dbb477a5",
   "metadata": {},
   "outputs": [
    {
     "data": {
      "text/plain": [
       "(500, 23)"
      ]
     },
     "execution_count": 2,
     "metadata": {},
     "output_type": "execute_result"
    }
   ],
   "source": [
    "# raw data\n",
    "file = 'sample_datapoints.pkl'\n",
    "path = project_path + 'data/'\n",
    "df = pd.read_pickle(path + file)\n",
    "df.shape"
   ]
  },
  {
   "cell_type": "code",
   "execution_count": 3,
   "id": "b94652ca",
   "metadata": {},
   "outputs": [],
   "source": [
    "apps_cols = ['estimated_monthly_revenue','incoming_ach_payments','outgoing_ach_and_checks',\n",
    "            'check_deposit_amount','outgoing_wire_transfers','incoming_wire_transfer','business_type',\n",
    "            'email_domain','industry_category_name']\n",
    "alloy_cols = ['iovation_device_type','iovation_device_timezone','carrier','socure_sigma','socure_phonerisk',\n",
    "             'socure_emailrisk','socure_reason_code','socure_phonerisk_reason_code','socure_emailrisk_reason_code']\n",
    "segment_cols = ['screen_width_mean','screen_height_mean']\n",
    "\n",
    "columns = apps_cols+alloy_cols+segment_cols"
   ]
  },
  {
   "cell_type": "code",
   "execution_count": 4,
   "id": "41ab6448",
   "metadata": {
    "scrolled": true
   },
   "outputs": [],
   "source": [
    "string_cols = apps_cols+['iovation_device_type','iovation_device_timezone','carrier','socure_reason_code',\n",
    "                         'socure_phonerisk_reason_code','socure_emailrisk_reason_code']\n",
    "num_cols = ['socure_sigma','socure_phonerisk','socure_emailrisk','screen_width_mean','screen_height_mean']\n",
    "df[string_cols] = df[string_cols].astype('string')\n",
    "df[num_cols] = df[num_cols].astype('float')"
   ]
  },
  {
   "cell_type": "code",
   "execution_count": 18,
   "id": "85ea3184",
   "metadata": {},
   "outputs": [],
   "source": [
    "# df[df.application_id=='e2b5773b-9fe1-44d7-bf98-33929533e3f1'][['application_id']+columns].to_json(project_path + \"data/nsql_sample_input.json\")\n"
   ]
  },
  {
   "cell_type": "code",
   "execution_count": null,
   "id": "d41b9ae7",
   "metadata": {},
   "outputs": [],
   "source": []
  },
  {
   "cell_type": "code",
   "execution_count": 19,
   "id": "672a6af2",
   "metadata": {
    "scrolled": true
   },
   "outputs": [],
   "source": [
    "df[['application_id']+columns].iloc[41].to_json(project_path + \"data/nsql_sample_input.json\")"
   ]
  },
  {
   "cell_type": "code",
   "execution_count": 20,
   "id": "6e2bfaa9",
   "metadata": {},
   "outputs": [],
   "source": [
    "# get input json\n",
    "import json\n",
    "with open(project_path + 'data/nsql_sample_input.json', \"r\") as read_file:\n",
    "    input_data = pd.DataFrame([json.load(read_file)])"
   ]
  },
  {
   "cell_type": "code",
   "execution_count": 21,
   "id": "a5a4d0a7",
   "metadata": {},
   "outputs": [],
   "source": [
    "t = input_data"
   ]
  },
  {
   "cell_type": "code",
   "execution_count": 23,
   "id": "3825fa4d",
   "metadata": {},
   "outputs": [
    {
     "data": {
      "text/html": [
       "<div>\n",
       "<style scoped>\n",
       "    .dataframe tbody tr th:only-of-type {\n",
       "        vertical-align: middle;\n",
       "    }\n",
       "\n",
       "    .dataframe tbody tr th {\n",
       "        vertical-align: top;\n",
       "    }\n",
       "\n",
       "    .dataframe thead th {\n",
       "        text-align: right;\n",
       "    }\n",
       "</style>\n",
       "<table border=\"1\" class=\"dataframe\">\n",
       "  <thead>\n",
       "    <tr style=\"text-align: right;\">\n",
       "      <th></th>\n",
       "      <th>application_id</th>\n",
       "      <th>estimated_monthly_revenue</th>\n",
       "      <th>incoming_ach_payments</th>\n",
       "      <th>outgoing_ach_and_checks</th>\n",
       "      <th>check_deposit_amount</th>\n",
       "      <th>outgoing_wire_transfers</th>\n",
       "      <th>incoming_wire_transfer</th>\n",
       "      <th>business_type</th>\n",
       "      <th>email_domain</th>\n",
       "      <th>industry_category_name</th>\n",
       "      <th>...</th>\n",
       "      <th>iovation_device_timezone</th>\n",
       "      <th>carrier</th>\n",
       "      <th>socure_sigma</th>\n",
       "      <th>socure_phonerisk</th>\n",
       "      <th>socure_emailrisk</th>\n",
       "      <th>socure_reason_code</th>\n",
       "      <th>socure_phonerisk_reason_code</th>\n",
       "      <th>socure_emailrisk_reason_code</th>\n",
       "      <th>screen_width_mean</th>\n",
       "      <th>screen_height_mean</th>\n",
       "    </tr>\n",
       "  </thead>\n",
       "  <tbody>\n",
       "    <tr>\n",
       "      <th>0</th>\n",
       "      <td>5bcb3b5a-f64e-4a7d-9912-ee6384ccc701</td>\n",
       "      <td>&lt;$1K</td>\n",
       "      <td>&lt;$1K</td>\n",
       "      <td>&lt;$1K</td>\n",
       "      <td>$0</td>\n",
       "      <td>$0</td>\n",
       "      <td>$0</td>\n",
       "      <td>llc</td>\n",
       "      <td>gmail.com</td>\n",
       "      <td>Information</td>\n",
       "      <td>...</td>\n",
       "      <td>300</td>\n",
       "      <td>T-Mobile USA</td>\n",
       "      <td>0.727</td>\n",
       "      <td>0.635</td>\n",
       "      <td>0.879</td>\n",
       "      <td>[\\n  \"I610\",\\n  \"I626\",\\n  \"I711\",\\n  \"I550\",\\...</td>\n",
       "      <td>[\\n  \"I610\",\\n  \"I626\",\\n  \"I620\",\\n  \"I611\",\\...</td>\n",
       "      <td>[\\n  \"I520\",\\n  \"I550\",\\n  \"I555\"\\n]</td>\n",
       "      <td>1733.0</td>\n",
       "      <td>1281.0</td>\n",
       "    </tr>\n",
       "  </tbody>\n",
       "</table>\n",
       "<p>1 rows × 21 columns</p>\n",
       "</div>"
      ],
      "text/plain": [
       "                         application_id estimated_monthly_revenue  \\\n",
       "0  5bcb3b5a-f64e-4a7d-9912-ee6384ccc701                      <$1K   \n",
       "\n",
       "  incoming_ach_payments outgoing_ach_and_checks check_deposit_amount  \\\n",
       "0                  <$1K                    <$1K                   $0   \n",
       "\n",
       "  outgoing_wire_transfers incoming_wire_transfer business_type email_domain  \\\n",
       "0                      $0                     $0           llc    gmail.com   \n",
       "\n",
       "  industry_category_name  ... iovation_device_timezone       carrier  \\\n",
       "0            Information  ...                      300  T-Mobile USA   \n",
       "\n",
       "  socure_sigma  socure_phonerisk  socure_emailrisk  \\\n",
       "0        0.727             0.635             0.879   \n",
       "\n",
       "                                  socure_reason_code  \\\n",
       "0  [\\n  \"I610\",\\n  \"I626\",\\n  \"I711\",\\n  \"I550\",\\...   \n",
       "\n",
       "                        socure_phonerisk_reason_code  \\\n",
       "0  [\\n  \"I610\",\\n  \"I626\",\\n  \"I620\",\\n  \"I611\",\\...   \n",
       "\n",
       "           socure_emailrisk_reason_code screen_width_mean  screen_height_mean  \n",
       "0  [\\n  \"I520\",\\n  \"I550\",\\n  \"I555\"\\n]            1733.0              1281.0  \n",
       "\n",
       "[1 rows x 21 columns]"
      ]
     },
     "execution_count": 23,
     "metadata": {},
     "output_type": "execute_result"
    }
   ],
   "source": [
    "t"
   ]
  },
  {
   "cell_type": "code",
   "execution_count": null,
   "id": "175ef785",
   "metadata": {},
   "outputs": [],
   "source": []
  },
  {
   "cell_type": "code",
   "execution_count": 10,
   "id": "d8adf544",
   "metadata": {},
   "outputs": [],
   "source": [
    "# input_data.iloc[0]"
   ]
  },
  {
   "cell_type": "code",
   "execution_count": 11,
   "id": "ba14da49",
   "metadata": {},
   "outputs": [],
   "source": [
    "# input_data.T[input_data.T.index.isin(['socure_emailrisk_reason_code'])].values"
   ]
  },
  {
   "cell_type": "code",
   "execution_count": 12,
   "id": "4cf2f18f",
   "metadata": {},
   "outputs": [],
   "source": [
    "# input_data.loc[0].values"
   ]
  },
  {
   "cell_type": "code",
   "execution_count": 13,
   "id": "4b16f76d",
   "metadata": {},
   "outputs": [],
   "source": [
    "# input_data.T.to_dict()"
   ]
  },
  {
   "cell_type": "code",
   "execution_count": null,
   "id": "46b67f16",
   "metadata": {},
   "outputs": [],
   "source": []
  }
 ],
 "metadata": {
  "kernelspec": {
   "display_name": "Python 3 (ipykernel)",
   "language": "python",
   "name": "python3"
  },
  "language_info": {
   "codemirror_mode": {
    "name": "ipython",
    "version": 3
   },
   "file_extension": ".py",
   "mimetype": "text/x-python",
   "name": "python",
   "nbconvert_exporter": "python",
   "pygments_lexer": "ipython3",
   "version": "3.9.2"
  }
 },
 "nbformat": 4,
 "nbformat_minor": 5
}
